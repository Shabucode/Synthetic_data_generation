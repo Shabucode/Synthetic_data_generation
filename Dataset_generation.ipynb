{
  "nbformat": 4,
  "nbformat_minor": 0,
  "metadata": {
    "colab": {
      "provenance": []
    },
    "kernelspec": {
      "name": "python3",
      "display_name": "Python 3"
    },
    "language_info": {
      "name": "python"
    }
  },
  "cells": [
    {
      "cell_type": "code",
      "source": [
        "import numpy as np\n",
        "import pandas as pd\n",
        "\n",
        "# Define the base data pattern as a list of lists\n",
        "data_pattern = [\n",
        "    [1.5, 1.5, 0, 1, 2, 0, 1, 2, 2, 0, 2, 1.5, 1, 2, 2, 0, 2, 3, 1, 0, 0, 2, 1, 3],\n",
        "    [1, 1, 2.1, 0, 2, 1, 0, 1.5, 1.7, 1, 0.9, 0.8, 1, 2, 2, 1, 2, 3, 1, 0, 0, 2, 1, 3],\n",
        "    [2.1, 2.1, 0, 1.5, 2.1, 0, 1, 1, 1.5, 1.3, 0, 2.2, 2.1, 0.6, 1, 3, 2, 4, 3, 1, 0, 3, 2, 4],\n",
        "    [0.8, 1, 2, 0, 1, 2, 0, 1.5, 1.2, 0, 1, 0, 1, 1, 0, 1.2, 2, 3, 1.7, 3, 2, 1, 2, 3]]\n",
        "\n",
        "\n",
        "# Number of synthetic rows to generate\n",
        "num_samples = 50\n",
        "\n",
        "# Generate synthetic data\n",
        "synthetic_data = []\n",
        "for _ in range(num_samples):\n",
        "    row = data_pattern[np.random.randint(len(data_pattern))]  # Select a random row\n",
        "    variation = np.random.normal(0, 0.1, size=len(row))  # Add slight variation\n",
        "    synthetic_row = np.clip(np.array(row) + variation, 0, None)  # Ensure no negative values\n",
        "    synthetic_data.append(synthetic_row)\n",
        "\n",
        "# Convert to a DataFrame\n",
        "columns = [f\"Feature_{i+1}\" for i in range(len(data_pattern[0]))]\n",
        "synthetic_df = pd.DataFrame(synthetic_data, columns=columns)\n",
        "# Format the DataFrame values to 2 decimal places\n",
        "synthetic_df = synthetic_df.applymap(lambda x: f\"{x:.1f}\")\n",
        "\n",
        "# Display the DataFrame\n",
        "print(synthetic_df.head())\n",
        "from google.colab import files\n",
        "synthetic_df.to_excel(\"synthetic_data.xlsx\", index=False)\n",
        "files.download(\"synthetic_data.xlsx\")\n"
      ],
      "metadata": {
        "colab": {
          "base_uri": "https://localhost:8080/",
          "height": 454
        },
        "id": "I97yNlCjI7cs",
        "outputId": "d87d9dc5-c6e3-4775-f50f-bf1552c6c789"
      },
      "execution_count": null,
      "outputs": [
        {
          "output_type": "stream",
          "name": "stderr",
          "text": [
            "<ipython-input-1-00043b09d388>:27: FutureWarning: DataFrame.applymap has been deprecated. Use DataFrame.map instead.\n",
            "  synthetic_df = synthetic_df.applymap(lambda x: f\"{x:.1f}\")\n"
          ]
        },
        {
          "output_type": "stream",
          "name": "stdout",
          "text": [
            "  Feature_1 Feature_2 Feature_3 Feature_4 Feature_5 Feature_6 Feature_7  \\\n",
            "0       0.7       1.0       2.0       0.0       1.0       1.9       0.0   \n",
            "1       2.2       2.1       0.1       1.6       2.1       0.0       1.0   \n",
            "2       1.6       1.4       0.0       1.0       2.1       0.1       1.0   \n",
            "3       1.7       1.5       0.1       1.0       2.0       0.0       0.9   \n",
            "4       1.6       1.4       0.1       1.1       1.9       0.0       1.2   \n",
            "\n",
            "  Feature_8 Feature_9 Feature_10  ... Feature_15 Feature_16 Feature_17  \\\n",
            "0       1.4       1.2        0.0  ...        0.0        1.3        2.1   \n",
            "1       1.0       1.5        1.1  ...        0.9        2.9        2.0   \n",
            "2       1.9       2.1        0.0  ...        2.1        0.1        1.9   \n",
            "3       1.9       2.0        0.0  ...        2.0        0.0        2.1   \n",
            "4       2.1       1.9        0.1  ...        2.0        0.0        1.9   \n",
            "\n",
            "  Feature_18 Feature_19 Feature_20 Feature_21 Feature_22 Feature_23 Feature_24  \n",
            "0        3.0        1.7        3.0        1.9        1.1        2.0        3.1  \n",
            "1        4.3        3.0        1.0        0.2        3.0        2.0        4.0  \n",
            "2        2.9        1.0        0.0        0.1        2.0        1.0        2.9  \n",
            "3        2.7        1.0        0.0        0.1        1.9        0.8        3.0  \n",
            "4        3.0        1.0        0.0        0.0        2.0        1.0        3.0  \n",
            "\n",
            "[5 rows x 24 columns]\n"
          ]
        },
        {
          "output_type": "display_data",
          "data": {
            "text/plain": [
              "<IPython.core.display.Javascript object>"
            ],
            "application/javascript": [
              "\n",
              "    async function download(id, filename, size) {\n",
              "      if (!google.colab.kernel.accessAllowed) {\n",
              "        return;\n",
              "      }\n",
              "      const div = document.createElement('div');\n",
              "      const label = document.createElement('label');\n",
              "      label.textContent = `Downloading \"${filename}\": `;\n",
              "      div.appendChild(label);\n",
              "      const progress = document.createElement('progress');\n",
              "      progress.max = size;\n",
              "      div.appendChild(progress);\n",
              "      document.body.appendChild(div);\n",
              "\n",
              "      const buffers = [];\n",
              "      let downloaded = 0;\n",
              "\n",
              "      const channel = await google.colab.kernel.comms.open(id);\n",
              "      // Send a message to notify the kernel that we're ready.\n",
              "      channel.send({})\n",
              "\n",
              "      for await (const message of channel.messages) {\n",
              "        // Send a message to notify the kernel that we're ready.\n",
              "        channel.send({})\n",
              "        if (message.buffers) {\n",
              "          for (const buffer of message.buffers) {\n",
              "            buffers.push(buffer);\n",
              "            downloaded += buffer.byteLength;\n",
              "            progress.value = downloaded;\n",
              "          }\n",
              "        }\n",
              "      }\n",
              "      const blob = new Blob(buffers, {type: 'application/binary'});\n",
              "      const a = document.createElement('a');\n",
              "      a.href = window.URL.createObjectURL(blob);\n",
              "      a.download = filename;\n",
              "      div.appendChild(a);\n",
              "      a.click();\n",
              "      div.remove();\n",
              "    }\n",
              "  "
            ]
          },
          "metadata": {}
        },
        {
          "output_type": "display_data",
          "data": {
            "text/plain": [
              "<IPython.core.display.Javascript object>"
            ],
            "application/javascript": [
              "download(\"download_209ec533-d3fa-4255-aad3-6b8b1ecf9a2c\", \"synthetic_data.xlsx\", 9727)"
            ]
          },
          "metadata": {}
        }
      ]
    }
  ]
}
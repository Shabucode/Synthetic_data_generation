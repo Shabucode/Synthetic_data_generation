{
  "nbformat": 4,
  "nbformat_minor": 0,
  "metadata": {
    "colab": {
      "provenance": []
    },
    "kernelspec": {
      "name": "python3",
      "display_name": "Python 3"
    },
    "language_info": {
      "name": "python"
    }
  },
  "cells": [
    {
      "cell_type": "code",
      "execution_count": 1,
      "metadata": {
        "colab": {
          "base_uri": "https://localhost:8080/"
        },
        "id": "sFOdDPPmaezW",
        "outputId": "d7b0f385-8c4a-47df-ccd3-23388e84939e"
      },
      "outputs": [
        {
          "output_type": "stream",
          "name": "stdout",
          "text": [
            "   Feature1  Feature2  Target\n",
            "0 -0.999102 -0.663860       1\n",
            "1  1.246686  1.153597       1\n",
            "2  0.962777  0.859397       1\n",
            "3 -2.957441  2.033645       1\n",
            "4  1.141165  1.059449       1\n"
          ]
        }
      ],
      "source": [
        "from sklearn.datasets import make_classification\n",
        "import pandas as pd\n",
        "\n",
        "# Generate synthetic data\n",
        "X, y = make_classification(n_samples=1000, n_features=2, n_informative=2, n_redundant=0, random_state=42)\n",
        "\n",
        "# Convert to DataFrame for easier handling\n",
        "df = pd.DataFrame(X, columns=['Feature1', 'Feature2'])\n",
        "df['Target'] = y\n",
        "\n",
        "print(df.head())\n"
      ]
    },
    {
      "cell_type": "code",
      "source": [
        "import numpy as np\n",
        "\n",
        "# Generate synthetic data\n",
        "data = np.random.normal(loc=0, scale=1, size=1000)\n",
        "\n",
        "print(data[:10])"
      ],
      "metadata": {
        "colab": {
          "base_uri": "https://localhost:8080/"
        },
        "id": "65_yvrnmon72",
        "outputId": "1720f842-3fe6-4724-f213-606b49fd4593"
      },
      "execution_count": 2,
      "outputs": [
        {
          "output_type": "stream",
          "name": "stdout",
          "text": [
            "[ 2.30261448  1.05315531 -1.15127062  0.75348043 -1.70340659 -0.66538108\n",
            "  0.26089104 -0.02315666  1.47277261  0.53962029]\n"
          ]
        }
      ]
    },
    {
      "cell_type": "code",
      "source": [
        "pip install Faker"
      ],
      "metadata": {
        "colab": {
          "base_uri": "https://localhost:8080/"
        },
        "id": "eLHd02wYot7d",
        "outputId": "2a72ef39-fac6-48ec-90ec-18cff3861f20"
      },
      "execution_count": 4,
      "outputs": [
        {
          "output_type": "stream",
          "name": "stdout",
          "text": [
            "Collecting Faker\n",
            "  Downloading Faker-30.1.0-py3-none-any.whl.metadata (15 kB)\n",
            "Requirement already satisfied: python-dateutil>=2.4 in /usr/local/lib/python3.10/dist-packages (from Faker) (2.8.2)\n",
            "Requirement already satisfied: typing-extensions in /usr/local/lib/python3.10/dist-packages (from Faker) (4.12.2)\n",
            "Requirement already satisfied: six>=1.5 in /usr/local/lib/python3.10/dist-packages (from python-dateutil>=2.4->Faker) (1.16.0)\n",
            "Downloading Faker-30.1.0-py3-none-any.whl (1.8 MB)\n",
            "\u001b[2K   \u001b[90m━━━━━━━━━━━━━━━━━━━━━━━━━━━━━━━━━━━━━━━━\u001b[0m \u001b[32m1.8/1.8 MB\u001b[0m \u001b[31m16.2 MB/s\u001b[0m eta \u001b[36m0:00:00\u001b[0m\n",
            "\u001b[?25hInstalling collected packages: Faker\n",
            "Successfully installed Faker-30.1.0\n"
          ]
        }
      ]
    },
    {
      "cell_type": "code",
      "source": [
        "from faker import Faker\n",
        "import pandas as pd\n",
        "\n",
        "fake = Faker()\n",
        "\n",
        "# Generate synthetic data\n",
        "data = [fake.profile() for _ in range(100)]\n",
        "df = pd.DataFrame(data)\n",
        "\n",
        "print(df.head())"
      ],
      "metadata": {
        "colab": {
          "base_uri": "https://localhost:8080/"
        },
        "id": "5B05fXyBopKQ",
        "outputId": "0a16818a-8d2e-450e-8291-1d141dcf30fd"
      },
      "execution_count": 5,
      "outputs": [
        {
          "output_type": "stream",
          "name": "stdout",
          "text": [
            "                            job                  company          ssn  \\\n",
            "0               Ophthalmologist  Thomas, Hill and Warner  072-16-3418   \n",
            "1                           Sub              Johnson LLC  236-38-9597   \n",
            "2                   Illustrator                 Vang LLC  714-25-9660   \n",
            "3  Designer, industrial/product           Williams-Smith  433-37-3071   \n",
            "4             Building surveyor                 Mora Ltd  371-42-2446   \n",
            "\n",
            "                                           residence  \\\n",
            "0  702 Juan Union Apt. 313\\nPort Briantown, DC 37739   \n",
            "1                   PSC 5464, Box 9826\\nAPO AP 77233   \n",
            "2        310 Herman Lights\\nJasmineborough, AK 64289   \n",
            "3             3413 Powell Club\\nAndrewside, MS 84694   \n",
            "4                         USS Cardenas\\nFPO AP 82609   \n",
            "\n",
            "            current_location blood_group  \\\n",
            "0  (51.7990215, -167.409452)          B+   \n",
            "1    (61.739479, -89.346739)          A+   \n",
            "2   (4.7510415, -104.867254)         AB-   \n",
            "3      (53.166608, 8.074606)          A-   \n",
            "4  (-51.9684015, -63.936535)          A-   \n",
            "\n",
            "                                             website     username  \\\n",
            "0       [https://powers.com/, http://schneider.net/]       ghaney   \n",
            "1  [https://miller.com/, https://www.jenkins-buck...      anita76   \n",
            "2                             [http://www.neal.biz/]      wharris   \n",
            "3  [https://www.chavez.com/, http://www.anderson....   juliejones   \n",
            "4       [https://gibbs.com/, http://www.porter.com/]  perezbonnie   \n",
            "\n",
            "                name sex                                            address  \\\n",
            "0         Mark Doyle   M                   Unit 2300 Box 1085\\nDPO AP 29527   \n",
            "1  Dominique Stewart   F  500 Aaron Flats Suite 505\\nLake Courtneyland, ...   \n",
            "2      David Wheeler   M          01506 Beck Springs\\nCharlesfurt, KS 66537   \n",
            "3  Christopher Curry   M  62320 Victoria Road Apt. 136\\nNew Crystalside,...   \n",
            "4    Anthony Jenkins   M  5764 Morgan Way Apt. 724\\nPort Stephenhaven, N...   \n",
            "\n",
            "                        mail   birthdate  \n",
            "0     kimalexandra@gmail.com  1979-09-12  \n",
            "1  bowersbrianna@hotmail.com  2015-10-06  \n",
            "2           qweeks@yahoo.com  2010-03-27  \n",
            "3    brendawalsh@hotmail.com  1953-10-23  \n",
            "4     reesematthew@yahoo.com  1978-04-18  \n"
          ]
        }
      ]
    },
    {
      "cell_type": "code",
      "source": [
        "import tensorflow as tf\n",
        "\n",
        "# Generate synthetic image data\n",
        "data = tf.random.normal([100, 64, 64, 3])\n",
        "\n",
        "print(data.shape)"
      ],
      "metadata": {
        "colab": {
          "base_uri": "https://localhost:8080/"
        },
        "id": "ahkDUVgFo32W",
        "outputId": "af980cdd-1300-40ef-ac07-150dbbeef6dd"
      },
      "execution_count": 6,
      "outputs": [
        {
          "output_type": "stream",
          "name": "stdout",
          "text": [
            "(100, 64, 64, 3)\n"
          ]
        }
      ]
    }
  ]
}